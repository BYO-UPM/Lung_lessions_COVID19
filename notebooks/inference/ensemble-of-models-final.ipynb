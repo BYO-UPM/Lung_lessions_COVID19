{
 "cells": [
  {
   "cell_type": "code",
   "execution_count": 1,
   "id": "79eea5c3",
   "metadata": {
    "execution": {
     "iopub.execute_input": "2022-11-04T23:50:10.390676Z",
     "iopub.status.busy": "2022-11-04T23:50:10.390039Z",
     "iopub.status.idle": "2022-11-04T23:55:43.241950Z",
     "shell.execute_reply": "2022-11-04T23:55:43.239936Z"
    },
    "papermill": {
     "duration": 332.868064,
     "end_time": "2022-11-04T23:55:43.245860",
     "exception": false,
     "start_time": "2022-11-04T23:50:10.377796",
     "status": "completed"
    },
    "tags": []
   },
   "outputs": [
    {
     "name": "stdout",
     "output_type": "stream",
     "text": [
      "\u001b[31mERROR: pip's dependency resolver does not currently take into account all the packages that are installed. This behaviour is the source of the following dependency conflicts.\r\n",
      "torchtext 0.12.0 requires torch==1.11.0, but you have torch 1.9.0+cu111 which is incompatible.\r\n",
      "torchaudio 0.11.0+cpu requires torch==1.11.0, but you have torch 1.9.0+cu111 which is incompatible.\u001b[0m\u001b[31m\r\n",
      "\u001b[0mCollecting pycocotools\r\n",
      "  Downloading pycocotools-2.0.6.tar.gz (24 kB)\r\n",
      "  Installing build dependencies ... \u001b[?25l-\b \b\\\b \b|\b \b/\b \b-\b \b\\\b \b|\b \b/\b \b-\b \b\\\b \b|\b \b/\b \b-\b \b\\\b \bdone\r\n",
      "\u001b[?25h  Getting requirements to build wheel ... \u001b[?25l-\b \bdone\r\n",
      "\u001b[?25h  Preparing metadata (pyproject.toml) ... \u001b[?25l-\b \b\\\b \bdone\r\n",
      "\u001b[?25hRequirement already satisfied: matplotlib>=2.1.0 in /opt/conda/lib/python3.7/site-packages (from pycocotools) (3.5.2)\r\n",
      "Requirement already satisfied: numpy in /opt/conda/lib/python3.7/site-packages (from pycocotools) (1.21.6)\r\n",
      "Requirement already satisfied: cycler>=0.10 in /opt/conda/lib/python3.7/site-packages (from matplotlib>=2.1.0->pycocotools) (0.11.0)\r\n",
      "Requirement already satisfied: kiwisolver>=1.0.1 in /opt/conda/lib/python3.7/site-packages (from matplotlib>=2.1.0->pycocotools) (1.4.2)\r\n",
      "Requirement already satisfied: pyparsing>=2.2.1 in /opt/conda/lib/python3.7/site-packages (from matplotlib>=2.1.0->pycocotools) (3.0.9)\r\n",
      "Requirement already satisfied: python-dateutil>=2.7 in /opt/conda/lib/python3.7/site-packages (from matplotlib>=2.1.0->pycocotools) (2.8.2)\r\n",
      "Requirement already satisfied: packaging>=20.0 in /opt/conda/lib/python3.7/site-packages (from matplotlib>=2.1.0->pycocotools) (21.3)\r\n",
      "Requirement already satisfied: fonttools>=4.22.0 in /opt/conda/lib/python3.7/site-packages (from matplotlib>=2.1.0->pycocotools) (4.33.3)\r\n",
      "Requirement already satisfied: pillow>=6.2.0 in /opt/conda/lib/python3.7/site-packages (from matplotlib>=2.1.0->pycocotools) (9.1.1)\r\n",
      "Requirement already satisfied: typing-extensions in /opt/conda/lib/python3.7/site-packages (from kiwisolver>=1.0.1->matplotlib>=2.1.0->pycocotools) (4.1.1)\r\n",
      "Requirement already satisfied: six>=1.5 in /opt/conda/lib/python3.7/site-packages (from python-dateutil>=2.7->matplotlib>=2.1.0->pycocotools) (1.16.0)\r\n",
      "Building wheels for collected packages: pycocotools\r\n",
      "  Building wheel for pycocotools (pyproject.toml) ... \u001b[?25l-\b \b\\\b \b|\b \b/\b \b-\b \b\\\b \b|\b \bdone\r\n",
      "\u001b[?25h  Created wheel for pycocotools: filename=pycocotools-2.0.6-cp37-cp37m-linux_x86_64.whl size=373755 sha256=61fe18160960d2d6a0edae18178483cbbfb5d83e46f1560dcc4980f34b9b2032\r\n",
      "  Stored in directory: /root/.cache/pip/wheels/06/f6/f9/9cc49c6de8e3cf27dfddd91bf46595a057141d4583a2adaf03\r\n",
      "Successfully built pycocotools\r\n",
      "Installing collected packages: pycocotools\r\n",
      "Successfully installed pycocotools-2.0.6\r\n",
      "\u001b[33mWARNING: Running pip as the 'root' user can result in broken permissions and conflicting behaviour with the system package manager. It is recommended to use a virtual environment instead: https://pip.pypa.io/warnings/venv\u001b[0m\u001b[33m\r\n",
      "\u001b[0m"
     ]
    }
   ],
   "source": [
    "!pip install -qq torch==1.9.0+cu111 torchvision==0.10.0+cu111 -f https://download.pytorch.org/whl/torch_stable.html\n",
    "!pip install -qq ensemble-boxes\n",
    "!pip install pycocotools"
   ]
  },
  {
   "cell_type": "code",
   "execution_count": 2,
   "id": "8069bf4d",
   "metadata": {
    "execution": {
     "iopub.execute_input": "2022-11-04T23:55:43.272291Z",
     "iopub.status.busy": "2022-11-04T23:55:43.271660Z",
     "iopub.status.idle": "2022-11-04T23:55:59.392145Z",
     "shell.execute_reply": "2022-11-04T23:55:59.390972Z"
    },
    "papermill": {
     "duration": 16.136703,
     "end_time": "2022-11-04T23:55:59.394794",
     "exception": false,
     "start_time": "2022-11-04T23:55:43.258091",
     "status": "completed"
    },
    "tags": []
   },
   "outputs": [
    {
     "name": "stdout",
     "output_type": "stream",
     "text": [
      "Requirement already satisfied: wandb in /opt/conda/lib/python3.7/site-packages (0.12.18)\r\n",
      "Collecting wandb\r\n",
      "  Downloading wandb-0.13.5-py2.py3-none-any.whl (1.9 MB)\r\n",
      "\u001b[2K     \u001b[90m━━━━━━━━━━━━━━━━━━━━━━━━━━━━━━━━━━━━━━━━\u001b[0m \u001b[32m1.9/1.9 MB\u001b[0m \u001b[31m1.9 MB/s\u001b[0m eta \u001b[36m0:00:00\u001b[0m\r\n",
      "\u001b[?25hRequirement already satisfied: docker-pycreds>=0.4.0 in /opt/conda/lib/python3.7/site-packages (from wandb) (0.4.0)\r\n",
      "Requirement already satisfied: GitPython>=1.0.0 in /opt/conda/lib/python3.7/site-packages (from wandb) (3.1.27)\r\n",
      "Requirement already satisfied: psutil>=5.0.0 in /opt/conda/lib/python3.7/site-packages (from wandb) (5.9.1)\r\n",
      "Requirement already satisfied: six>=1.13.0 in /opt/conda/lib/python3.7/site-packages (from wandb) (1.16.0)\r\n",
      "Requirement already satisfied: setproctitle in /opt/conda/lib/python3.7/site-packages (from wandb) (1.2.3)\r\n",
      "Requirement already satisfied: protobuf!=4.0.*,!=4.21.0,<5,>=3.12.0 in /opt/conda/lib/python3.7/site-packages (from wandb) (3.20.1)\r\n",
      "Requirement already satisfied: sentry-sdk>=1.0.0 in /opt/conda/lib/python3.7/site-packages (from wandb) (1.5.12)\r\n",
      "Requirement already satisfied: PyYAML in /opt/conda/lib/python3.7/site-packages (from wandb) (6.0)\r\n",
      "Requirement already satisfied: Click!=8.0.0,>=7.0 in /opt/conda/lib/python3.7/site-packages (from wandb) (8.0.4)\r\n",
      "Requirement already satisfied: setuptools in /opt/conda/lib/python3.7/site-packages (from wandb) (59.8.0)\r\n",
      "Requirement already satisfied: requests<3,>=2.0.0 in /opt/conda/lib/python3.7/site-packages (from wandb) (2.27.1)\r\n",
      "Requirement already satisfied: shortuuid>=0.5.0 in /opt/conda/lib/python3.7/site-packages (from wandb) (1.0.9)\r\n",
      "Requirement already satisfied: pathtools in /opt/conda/lib/python3.7/site-packages (from wandb) (0.1.2)\r\n",
      "Requirement already satisfied: promise<3,>=2.0 in /opt/conda/lib/python3.7/site-packages (from wandb) (2.3)\r\n",
      "Requirement already satisfied: importlib-metadata in /opt/conda/lib/python3.7/site-packages (from Click!=8.0.0,>=7.0->wandb) (4.11.4)\r\n",
      "Requirement already satisfied: gitdb<5,>=4.0.1 in /opt/conda/lib/python3.7/site-packages (from GitPython>=1.0.0->wandb) (4.0.9)\r\n",
      "Requirement already satisfied: typing-extensions>=3.7.4.3 in /opt/conda/lib/python3.7/site-packages (from GitPython>=1.0.0->wandb) (4.1.1)\r\n",
      "Requirement already satisfied: certifi>=2017.4.17 in /opt/conda/lib/python3.7/site-packages (from requests<3,>=2.0.0->wandb) (2022.6.15)\r\n",
      "Requirement already satisfied: idna<4,>=2.5 in /opt/conda/lib/python3.7/site-packages (from requests<3,>=2.0.0->wandb) (3.3)\r\n",
      "Requirement already satisfied: urllib3<1.27,>=1.21.1 in /opt/conda/lib/python3.7/site-packages (from requests<3,>=2.0.0->wandb) (1.26.9)\r\n",
      "Requirement already satisfied: charset-normalizer~=2.0.0 in /opt/conda/lib/python3.7/site-packages (from requests<3,>=2.0.0->wandb) (2.0.12)\r\n",
      "Requirement already satisfied: smmap<6,>=3.0.1 in /opt/conda/lib/python3.7/site-packages (from gitdb<5,>=4.0.1->GitPython>=1.0.0->wandb) (3.0.5)\r\n",
      "Requirement already satisfied: zipp>=0.5 in /opt/conda/lib/python3.7/site-packages (from importlib-metadata->Click!=8.0.0,>=7.0->wandb) (3.8.0)\r\n",
      "Installing collected packages: wandb\r\n",
      "  Attempting uninstall: wandb\r\n",
      "    Found existing installation: wandb 0.12.18\r\n",
      "    Uninstalling wandb-0.12.18:\r\n",
      "      Successfully uninstalled wandb-0.12.18\r\n",
      "\u001b[31mERROR: pip's dependency resolver does not currently take into account all the packages that are installed. This behaviour is the source of the following dependency conflicts.\r\n",
      "allennlp 2.9.3 requires wandb<0.13.0,>=0.10.0, but you have wandb 0.13.5 which is incompatible.\u001b[0m\u001b[31m\r\n",
      "\u001b[0mSuccessfully installed wandb-0.13.5\r\n",
      "\u001b[33mWARNING: Running pip as the 'root' user can result in broken permissions and conflicting behaviour with the system package manager. It is recommended to use a virtual environment instead: https://pip.pypa.io/warnings/venv\u001b[0m\u001b[33m\r\n",
      "\u001b[0m"
     ]
    }
   ],
   "source": [
    "!pip install --upgrade wandb"
   ]
  },
  {
   "cell_type": "markdown",
   "id": "19b14c69",
   "metadata": {
    "papermill": {
     "duration": 0.016375,
     "end_time": "2022-11-04T23:55:59.424612",
     "exception": false,
     "start_time": "2022-11-04T23:55:59.408237",
     "status": "completed"
    },
    "tags": []
   },
   "source": [
    "# Aux Functions"
   ]
  },
  {
   "cell_type": "code",
   "execution_count": 3,
   "id": "c50b9d9c",
   "metadata": {
    "execution": {
     "iopub.execute_input": "2022-11-04T23:55:59.453901Z",
     "iopub.status.busy": "2022-11-04T23:55:59.452741Z",
     "iopub.status.idle": "2022-11-04T23:55:59.475698Z",
     "shell.execute_reply": "2022-11-04T23:55:59.474850Z"
    },
    "papermill": {
     "duration": 0.040631,
     "end_time": "2022-11-04T23:55:59.478265",
     "exception": false,
     "start_time": "2022-11-04T23:55:59.437634",
     "status": "completed"
    },
    "tags": []
   },
   "outputs": [],
   "source": [
    "def get_bbox(row):\n",
    "    bboxes = []\n",
    "    bbox = []\n",
    "    for i, l in enumerate(row.label.split(' ')):\n",
    "        if (i % 6 == 0) | (i % 6 == 1):\n",
    "            continue\n",
    "        bbox.append(float(l))\n",
    "        if i % 6 == 5:\n",
    "            bboxes.append(bbox)\n",
    "            bbox = []  \n",
    "            \n",
    "    return bboxes\n",
    "\n",
    "# Scale the bounding boxes according to the size of the resized image. \n",
    "def scale_bbox(row, bboxes):\n",
    "    # Get scaling factor\n",
    "    scale_x = IMG_SIZE/row.dim1\n",
    "    scale_y = IMG_SIZE/row.dim0\n",
    "    \n",
    "    scaled_bboxes = []\n",
    "    for bbox in bboxes:\n",
    "        x = int(np.round(bbox[0]*scale_x, 4))\n",
    "        y = int(np.round(bbox[1]*scale_y, 4))\n",
    "        x1 = int(np.round(bbox[2]*(scale_x), 4))\n",
    "        y1= int(np.round(bbox[3]*scale_y, 4))\n",
    "\n",
    "        scaled_bboxes.append([x, y, x1, y1]) # xmin, ymin, xmax, ymax\n",
    "        \n",
    "    return scaled_bboxes\n",
    "\n",
    "# Convert the bounding boxes in YOLO format.\n",
    "def get_yolo_format_bbox(img_w, img_h, bboxes):\n",
    "    yolo_boxes = []\n",
    "    for bbox in bboxes:\n",
    "        w = bbox[2] - bbox[0] # xmax - xmin\n",
    "        h = bbox[3] - bbox[1] # ymax - ymin\n",
    "        xc = bbox[0] + int(np.round(w/2)) # xmin + width/2\n",
    "        yc = bbox[1] + int(np.round(h/2)) # ymin + height/2\n",
    "        \n",
    "        yolo_boxes.append([xc/img_w, yc/img_h, w/img_w, h/img_h]) # x_center y_center width height\n",
    "    \n",
    "    return yolo_boxes\n",
    "\n",
    "def yolo_to_coco_bbox(img_size,bbox):\n",
    "    w = bbox[2]\n",
    "    h = bbox[3]\n",
    "    x1 = bbox[0] - w/2\n",
    "    y1 = bbox[1] - h/2\n",
    "    return [x1*img_size,y1*img_size,w*img_size,h*img_size]\n",
    "\n",
    "def get_bboxes_from_result(result,img_size):\n",
    "    boxes_list = []\n",
    "    for array in tqdm(result,total=len(result)):\n",
    "        for ann in array[0].tolist():\n",
    "            x1,y1,x2,y2 = [float(coord) for coord in ann[:4]]            \n",
    "            boxes_list.append([x1/img_size, y1/img_size, x2/img_size , y2/img_size])\n",
    "    return boxes_list\n",
    "        \n",
    "def get_scores_from_result(result):\n",
    "    scores_list = []\n",
    "    for array in tqdm(result,total=len(result)):\n",
    "        for ann in array[0].tolist():\n",
    "            score = float(ann[4])\n",
    "            scores_list.append(score)\n",
    "    return scores_list\n",
    "\n",
    "\n",
    "def normalize_bbox(bbox, w, h):\n",
    "    x1, y1, x2, y2 = [float(num) for num in bbox]\n",
    "    return [x1/w, y1/h, x2/w, y2/h]\n",
    "\n",
    "def resize_bbox(bbox, w, h):\n",
    "    x1, y1, x2, y2 = [float(num) for num in bbox]\n",
    "    return [x1*w, y1*h, x2*w, y2*h]\n",
    "\n",
    "def results_to_json(results):\n",
    "    out_results_list = []\n",
    "    for img_id,res_array in tqdm(enumerate(results)):\n",
    "        for ann in res_array[0]:\n",
    "            coords = ann[:4].tolist()\n",
    "            ann_dict = dict(\n",
    "                image_id = int(img_id),\n",
    "                bbox = [ coords[0], coords[1], coords[2]-coords[0] , coords[3]-coords[1] ],\n",
    "                score= float(ann[4]),\n",
    "                category_id = 0\n",
    "            )\n",
    "            out_results_list.append(ann_dict)\n",
    "    return out_results_list\n"
   ]
  },
  {
   "cell_type": "markdown",
   "id": "421d71fa",
   "metadata": {
    "papermill": {
     "duration": 0.012794,
     "end_time": "2022-11-04T23:55:59.504810",
     "exception": false,
     "start_time": "2022-11-04T23:55:59.492016",
     "status": "completed"
    },
    "tags": []
   },
   "source": [
    "# Imports"
   ]
  },
  {
   "cell_type": "code",
   "execution_count": 4,
   "id": "4b1ea0b0",
   "metadata": {
    "execution": {
     "iopub.execute_input": "2022-11-04T23:55:59.532509Z",
     "iopub.status.busy": "2022-11-04T23:55:59.532126Z",
     "iopub.status.idle": "2022-11-04T23:56:02.590971Z",
     "shell.execute_reply": "2022-11-04T23:56:02.589892Z"
    },
    "papermill": {
     "duration": 3.075912,
     "end_time": "2022-11-04T23:56:02.593764",
     "exception": false,
     "start_time": "2022-11-04T23:55:59.517852",
     "status": "completed"
    },
    "tags": []
   },
   "outputs": [],
   "source": [
    "import wandb\n",
    "import os\n",
    "import shutil\n",
    "import sys\n",
    "import json\n",
    "import glob\n",
    "import pickle\n",
    "import yaml\n",
    "from tqdm import tqdm\n",
    "import torch,torchvision\n",
    "import pandas as pd\n",
    "import matplotlib.pyplot as plt\n",
    "import cv2\n",
    "from collections import defaultdict\n",
    "from datetime import datetime\n",
    "\n",
    "from ensemble_boxes import *\n",
    "\n",
    "import random\n",
    "import numpy as np\n",
    "from pathlib import Path\n",
    "from pycocotools import cocoeval\n",
    "from pycocotools.cocoeval import COCOeval\n",
    "from pycocotools.coco import COCO\n",
    "\n",
    "import IPython.display as ipd\n",
    "import numpy as np\n",
    "def boom():\n",
    "    beep = np.sin(2*np.pi*400*np.arange(10000*3)/10000)\n",
    "    return ipd.Audio(beep, rate=10000, autoplay=True)"
   ]
  },
  {
   "cell_type": "code",
   "execution_count": 6,
   "id": "d5085cf6",
   "metadata": {
    "execution": {
     "iopub.execute_input": "2022-11-04T23:56:07.118085Z",
     "iopub.status.busy": "2022-11-04T23:56:07.117636Z",
     "iopub.status.idle": "2022-11-04T23:56:07.123093Z",
     "shell.execute_reply": "2022-11-04T23:56:07.121885Z"
    },
    "papermill": {
     "duration": 0.022885,
     "end_time": "2022-11-04T23:56:07.125217",
     "exception": false,
     "start_time": "2022-11-04T23:56:07.102332",
     "status": "completed"
    },
    "tags": []
   },
   "outputs": [],
   "source": [
    "PROJECT_NAME = 'Final-Covid19-Detection'\n",
    "NOTEBOOK_NAME = ''\n",
    "EXP_NAME = 'Ensemble Inference'\n",
    "\n",
    "RESUME_FROM_RESULT_CHECKPOINT = True"
   ]
  },
  {
   "cell_type": "code",
   "execution_count": 8,
   "id": "9ba288d0",
   "metadata": {
    "execution": {
     "iopub.execute_input": "2022-11-04T23:56:11.634458Z",
     "iopub.status.busy": "2022-11-04T23:56:11.633511Z",
     "iopub.status.idle": "2022-11-04T23:56:15.767650Z",
     "shell.execute_reply": "2022-11-04T23:56:15.766352Z"
    },
    "papermill": {
     "duration": 4.152281,
     "end_time": "2022-11-04T23:56:15.770309",
     "exception": false,
     "start_time": "2022-11-04T23:56:11.618028",
     "status": "completed"
    },
    "tags": []
   },
   "outputs": [
    {
     "name": "stderr",
     "output_type": "stream",
     "text": [
      "\u001b[34m\u001b[1mwandb\u001b[0m:   10 of 10 files downloaded.  \n"
     ]
    }
   ],
   "source": [
    "val_ann_file_0 = '/kaggle/working/coco_val_512x512_fold_0.json'\n",
    "val_ann_file_1 = '/kaggle/working/coco_val_512x512_fold_1.json'\n",
    "val_ann_file_2 = '/kaggle/working/coco_val_512x512_fold_2.json'\n",
    "val_ann_file_3 = '/kaggle/working/coco_val_512x512_fold_3.json'\n",
    "val_ann_file_4 = '/kaggle/working/coco_val_512x512_fold_4.json'"
   ]
  },
  {
   "cell_type": "markdown",
   "id": "8ee327e6",
   "metadata": {
    "papermill": {
     "duration": 0.013829,
     "end_time": "2022-11-04T23:56:15.798655",
     "exception": false,
     "start_time": "2022-11-04T23:56:15.784826",
     "status": "completed"
    },
    "tags": []
   },
   "source": [
    "# Ensembling"
   ]
  },
  {
   "cell_type": "code",
   "execution_count": 9,
   "id": "ccba44a2",
   "metadata": {
    "execution": {
     "iopub.execute_input": "2022-11-04T23:56:15.828283Z",
     "iopub.status.busy": "2022-11-04T23:56:15.827899Z",
     "iopub.status.idle": "2022-11-04T23:56:15.834024Z",
     "shell.execute_reply": "2022-11-04T23:56:15.833007Z"
    },
    "papermill": {
     "duration": 0.023733,
     "end_time": "2022-11-04T23:56:15.836249",
     "exception": false,
     "start_time": "2022-11-04T23:56:15.812516",
     "status": "completed"
    },
    "tags": []
   },
   "outputs": [],
   "source": [
    "img_size = 512"
   ]
  },
  {
   "cell_type": "code",
   "execution_count": 10,
   "id": "2e17bdd2",
   "metadata": {
    "execution": {
     "iopub.execute_input": "2022-11-04T23:56:15.867127Z",
     "iopub.status.busy": "2022-11-04T23:56:15.866081Z",
     "iopub.status.idle": "2022-11-04T23:56:15.874592Z",
     "shell.execute_reply": "2022-11-04T23:56:15.873477Z"
    },
    "papermill": {
     "duration": 0.026242,
     "end_time": "2022-11-04T23:56:15.876961",
     "exception": false,
     "start_time": "2022-11-04T23:56:15.850719",
     "status": "completed"
    },
    "tags": []
   },
   "outputs": [],
   "source": [
    "\n",
    "cascade_results_path = '/kaggle/working/results/cascade_rcnn'\n",
    "faster_results_path = '/kaggle/results/faster_rcnn'\n",
    "retinanet_results_path = '/kaggle/results/retinanet'\n",
    "yolo_results_path = '/kaggle/input/results'\n"
   ]
  },
  {
   "cell_type": "markdown",
   "id": "8dd25575",
   "metadata": {
    "papermill": {
     "duration": 0.013757,
     "end_time": "2022-11-04T23:56:15.904826",
     "exception": false,
     "start_time": "2022-11-04T23:56:15.891069",
     "status": "completed"
    },
    "tags": []
   },
   "source": [
    "# Testing one-fold only"
   ]
  },
  {
   "cell_type": "code",
   "execution_count": 11,
   "id": "b6e64f74",
   "metadata": {
    "execution": {
     "iopub.execute_input": "2022-11-04T23:56:15.935106Z",
     "iopub.status.busy": "2022-11-04T23:56:15.934681Z",
     "iopub.status.idle": "2022-11-04T23:56:16.086461Z",
     "shell.execute_reply": "2022-11-04T23:56:16.085337Z"
    },
    "papermill": {
     "duration": 0.170172,
     "end_time": "2022-11-04T23:56:16.089396",
     "exception": false,
     "start_time": "2022-11-04T23:56:15.919224",
     "status": "completed"
    },
    "tags": []
   },
   "outputs": [],
   "source": [
    "with open(os.path.join(retinanet_results_path,'inference_results_0.pkl'), 'rb') as f:\n",
    "    retina_results = pickle.load(f)\n",
    "    \n",
    "with open(os.path.join(cascade_results_path,'inference_results_0.pkl'), 'rb') as f:\n",
    "    cascade_results = pickle.load(f)\n",
    "    \n",
    "with open(os.path.join(faster_results_path,'inference_results_0.pkl'), 'rb') as f:\n",
    "    faster_results = pickle.load(f)\n",
    "\n",
    "    "
   ]
  },
  {
   "cell_type": "markdown",
   "id": "69f7d42c",
   "metadata": {
    "papermill": {
     "duration": 0.013684,
     "end_time": "2022-11-04T23:56:16.117183",
     "exception": false,
     "start_time": "2022-11-04T23:56:16.103499",
     "status": "completed"
    },
    "tags": []
   },
   "source": [
    "## 2 models"
   ]
  },
  {
   "cell_type": "code",
   "execution_count": 12,
   "id": "3ba56545",
   "metadata": {
    "execution": {
     "iopub.execute_input": "2022-11-04T23:56:16.146958Z",
     "iopub.status.busy": "2022-11-04T23:56:16.146506Z",
     "iopub.status.idle": "2022-11-04T23:56:16.162258Z",
     "shell.execute_reply": "2022-11-04T23:56:16.161230Z"
    },
    "papermill": {
     "duration": 0.033756,
     "end_time": "2022-11-04T23:56:16.164921",
     "exception": false,
     "start_time": "2022-11-04T23:56:16.131165",
     "status": "completed"
    },
    "tags": []
   },
   "outputs": [],
   "source": [
    "def ensemble_2_models(model_0_results,model_1_results,img_size,iou_thr,skip_box_thr,weights):\n",
    "    results = []\n",
    "    for result_0,result_1 in tqdm(zip(model_0_results,model_1_results),total = len(model_0_results)):\n",
    "        result_0 = result_0[0].tolist()\n",
    "        result_1 = result_1[0].tolist()\n",
    "        boxes_0 = [normalize_bbox(res[:4],img_size,img_size) for res in result_0]\n",
    "        boxes_1 = [normalize_bbox(res[:4],img_size,img_size) for res in result_1]\n",
    "        scores_0 = [float(res[4]) for res in result_0]\n",
    "        scores_1 = [float(res[4]) for res in result_1]\n",
    "        boxes, scores, labels = weighted_boxes_fusion([boxes_0,boxes_1],\n",
    "                                                      [scores_0,scores_1],\n",
    "                                                      [np.zeros(shape=len(scores_0),dtype=int),np.zeros(shape=len(scores_1),dtype=int)],\n",
    "                                                      weights=weights,\n",
    "                                                      iou_thr=iou_thr,\n",
    "                                                      skip_box_thr=skip_box_thr)\n",
    "        img_result = []\n",
    "        for box,score in zip(boxes,scores):\n",
    "            img_result.append([resize_bbox(box,img_size,img_size),score])\n",
    "        results.append(np.array(img_result))\n",
    "    return results\n",
    "\n",
    "def dump_ensemble_into_json(ensemble_results,json_path):\n",
    "    results_dict = []\n",
    "    for image_id,image_ann in tqdm(enumerate(ensemble_results)):\n",
    "        for ann in image_ann:\n",
    "            bbox_raw = ann[0]\n",
    "            bbox_raw = [bbox_raw[0],bbox_raw[1],bbox_raw[2]-bbox_raw[0],bbox_raw[3]-bbox_raw[1]]\n",
    "            bbox = [float(coord) for coord in bbox_raw]\n",
    "            score = ann[1]\n",
    "            ann_dict = dict(\n",
    "                image_id = image_id,\n",
    "                bbox = bbox,\n",
    "                score = score,\n",
    "                category_id = 0\n",
    "                )\n",
    "            results_dict.append(ann_dict)\n",
    "    with open(json_path,'w') as file:\n",
    "        json.dump(results_dict,file,indent=4)"
   ]
  },
  {
   "cell_type": "code",
   "execution_count": 13,
   "id": "7fbbeb08",
   "metadata": {
    "execution": {
     "iopub.execute_input": "2022-11-04T23:56:16.195450Z",
     "iopub.status.busy": "2022-11-04T23:56:16.195052Z",
     "iopub.status.idle": "2022-11-04T23:56:16.202403Z",
     "shell.execute_reply": "2022-11-04T23:56:16.201353Z"
    },
    "papermill": {
     "duration": 0.025268,
     "end_time": "2022-11-04T23:56:16.204742",
     "exception": false,
     "start_time": "2022-11-04T23:56:16.179474",
     "status": "completed"
    },
    "tags": []
   },
   "outputs": [],
   "source": [
    "IoU_treshold_grid = [0.5,0.6,0.7]\n",
    "skip_threshold_grid = [0.001]\n",
    "weights_grid = [[1,1],[1,2],[1,3],[2,1],[1,2],[1,3],[3,1]]"
   ]
  },
  {
   "cell_type": "code",
   "execution_count": 14,
   "id": "7b1c6096",
   "metadata": {
    "execution": {
     "iopub.execute_input": "2022-11-04T23:56:16.234886Z",
     "iopub.status.busy": "2022-11-04T23:56:16.234465Z",
     "iopub.status.idle": "2022-11-04T23:56:16.243618Z",
     "shell.execute_reply": "2022-11-04T23:56:16.242476Z"
    },
    "papermill": {
     "duration": 0.027148,
     "end_time": "2022-11-04T23:56:16.246405",
     "exception": false,
     "start_time": "2022-11-04T23:56:16.219257",
     "status": "completed"
    },
    "tags": []
   },
   "outputs": [],
   "source": [
    "os.makedirs('/kaggle/working/ensemble_results',exist_ok=True)\n",
    "\n",
    "def fine_tune_wbf(results_1,results_2,name,IoU_threshold_grid,skip_threshold_grid,weights_grid):\n",
    "    os.makedirs(f'/kaggle/working/ensemble_results/{name}',exist_ok=True)\n",
    "    for IoU_treshold in IoU_treshold_grid:\n",
    "        for weights in weights_grid:\n",
    "            for skip_threshold in skip_threshold_grid:\n",
    "                ensemble_results = ensemble_2_models(results_1,results_2,\n",
    "                                     img_size = img_size,\n",
    "                                     iou_thr=IoU_treshold,\n",
    "                                     skip_box_thr=skip_threshold,\n",
    "                                     weights=weights)\n",
    "                dump_ensemble_into_json(ensemble_results,\n",
    "                                        f'/kaggle/working/ensemble_results/{name}/ensemble_results_{IoU_treshold}_{weights[0]}x{weights[1]}.json')\n"
   ]
  },
  {
   "cell_type": "code",
   "execution_count": 15,
   "id": "5ad75ca2",
   "metadata": {
    "execution": {
     "iopub.execute_input": "2022-11-04T23:56:16.277184Z",
     "iopub.status.busy": "2022-11-04T23:56:16.275992Z",
     "iopub.status.idle": "2022-11-04T23:58:35.742088Z",
     "shell.execute_reply": "2022-11-04T23:58:35.741112Z"
    },
    "papermill": {
     "duration": 139.484334,
     "end_time": "2022-11-04T23:58:35.744669",
     "exception": false,
     "start_time": "2022-11-04T23:56:16.260335",
     "status": "completed"
    },
    "tags": []
   },
   "outputs": [
    {
     "name": "stderr",
     "output_type": "stream",
     "text": [
      "  0%|          | 0/859 [00:00<?, ?it/s]/opt/conda/lib/python3.7/site-packages/ipykernel_launcher.py:19: VisibleDeprecationWarning: Creating an ndarray from ragged nested sequences (which is a list-or-tuple of lists-or-tuples-or ndarrays with different lengths or shapes) is deprecated. If you meant to do this, you must specify 'dtype=object' when creating the ndarray.\n",
      "100%|██████████| 859/859 [00:04<00:00, 187.60it/s]\n",
      "859it [00:00, 1591.66it/s]\n",
      "100%|██████████| 859/859 [00:04<00:00, 187.44it/s]\n",
      "859it [00:00, 2673.07it/s]\n",
      "100%|██████████| 859/859 [00:04<00:00, 181.91it/s]\n",
      "859it [00:00, 2557.03it/s]\n",
      "100%|██████████| 859/859 [00:04<00:00, 186.08it/s]\n",
      "859it [00:00, 2495.69it/s]\n",
      "100%|██████████| 859/859 [00:04<00:00, 181.38it/s]\n",
      "859it [00:00, 2510.28it/s]\n",
      "100%|██████████| 859/859 [00:04<00:00, 190.13it/s]\n",
      "859it [00:00, 2596.89it/s]\n",
      "100%|██████████| 859/859 [00:04<00:00, 191.61it/s]\n",
      "859it [00:00, 1657.88it/s]\n",
      "100%|██████████| 859/859 [00:04<00:00, 194.07it/s]\n",
      "859it [00:00, 2415.00it/s]\n",
      "100%|██████████| 859/859 [00:04<00:00, 179.96it/s]\n",
      "859it [00:00, 2359.11it/s]\n",
      "100%|██████████| 859/859 [00:04<00:00, 192.51it/s]\n",
      "859it [00:00, 2513.14it/s]\n",
      "100%|██████████| 859/859 [00:04<00:00, 187.14it/s]\n",
      "859it [00:00, 2447.50it/s]\n",
      "100%|██████████| 859/859 [00:04<00:00, 185.94it/s]\n",
      "859it [00:00, 2416.81it/s]\n",
      "100%|██████████| 859/859 [00:04<00:00, 187.58it/s]\n",
      "859it [00:00, 2378.95it/s]\n",
      "100%|██████████| 859/859 [00:04<00:00, 188.33it/s]\n",
      "859it [00:00, 2450.20it/s]\n",
      "100%|██████████| 859/859 [00:04<00:00, 185.88it/s]\n",
      "859it [00:00, 2338.66it/s]\n",
      "100%|██████████| 859/859 [00:04<00:00, 185.52it/s]\n",
      "859it [00:00, 2276.06it/s]\n",
      "100%|██████████| 859/859 [00:04<00:00, 191.75it/s]\n",
      "859it [00:00, 2342.70it/s]\n",
      "100%|██████████| 859/859 [00:04<00:00, 185.22it/s]\n",
      "859it [00:00, 2342.60it/s]\n",
      "100%|██████████| 859/859 [00:04<00:00, 187.18it/s]\n",
      "859it [00:00, 2271.97it/s]\n",
      "100%|██████████| 859/859 [00:04<00:00, 191.81it/s]\n",
      "859it [00:00, 1544.90it/s]\n",
      "100%|██████████| 859/859 [00:04<00:00, 195.49it/s]\n",
      "859it [00:00, 2344.88it/s]\n"
     ]
    }
   ],
   "source": [
    "fine_tune_wbf(retina_results,cascade_results,'retina&cascade',\n",
    "              IoU_treshold_grid,skip_threshold_grid,weights_grid)"
   ]
  },
  {
   "cell_type": "code",
   "execution_count": 16,
   "id": "9d7b8829",
   "metadata": {
    "execution": {
     "iopub.execute_input": "2022-11-04T23:58:35.898318Z",
     "iopub.status.busy": "2022-11-04T23:58:35.897257Z",
     "iopub.status.idle": "2022-11-05T00:01:06.762186Z",
     "shell.execute_reply": "2022-11-05T00:01:06.760835Z"
    },
    "papermill": {
     "duration": 150.944143,
     "end_time": "2022-11-05T00:01:06.765558",
     "exception": false,
     "start_time": "2022-11-04T23:58:35.821415",
     "status": "completed"
    },
    "tags": []
   },
   "outputs": [],
   "source": [
    "%%capture\n",
    "best_mAP50 = 0\n",
    "best_mAP_conf = {}\n",
    "\n",
    "for IoU_treshold in IoU_treshold_grid:\n",
    "    for weights in weights_grid:\n",
    "        for skip_threshold in skip_threshold_grid:\n",
    "            cocoGt = COCO('/kaggle/working/coco_val_512x512_fold_0.json')\n",
    "            res_json = f'/kaggle/working/ensemble_results/retina&cascade/ensemble_results_{IoU_treshold}_{weights[0]}x{weights[1]}.json'\n",
    "            cocoDt = cocoGt.loadRes(res_json)\n",
    "            imgIds=sorted(cocoGt.getImgIds())\n",
    "            cocoEval = COCOeval(cocoGt,cocoDt,'bbox')\n",
    "\n",
    "            cocoEval.params.catIds = [0] \n",
    "            cocoEval.evaluate()  \n",
    "            cocoEval.accumulate()  \n",
    "            cocoEval.summarize()\n",
    "            mAP50 = cocoEval.stats[1]\n",
    "            if mAP50 > best_mAP50:\n",
    "                best_mAP50 = mAP50\n",
    "                best_mAP_conf['best'] = {mAP50:res_json}"
   ]
  },
  {
   "cell_type": "code",
   "execution_count": 17,
   "id": "eca72751",
   "metadata": {
    "execution": {
     "iopub.execute_input": "2022-11-05T00:01:06.924712Z",
     "iopub.status.busy": "2022-11-05T00:01:06.924292Z",
     "iopub.status.idle": "2022-11-05T00:01:06.933327Z",
     "shell.execute_reply": "2022-11-05T00:01:06.932181Z"
    },
    "papermill": {
     "duration": 0.089857,
     "end_time": "2022-11-05T00:01:06.935751",
     "exception": false,
     "start_time": "2022-11-05T00:01:06.845894",
     "status": "completed"
    },
    "tags": []
   },
   "outputs": [
    {
     "data": {
      "text/plain": [
       "{'best': {0.5697922922242492: '/kaggle/working/ensemble_results/retina&cascade/ensemble_results_0.6_2x1.json'}}"
      ]
     },
     "execution_count": 17,
     "metadata": {},
     "output_type": "execute_result"
    }
   ],
   "source": [
    "best_mAP_conf"
   ]
  },
  {
   "cell_type": "code",
   "execution_count": 18,
   "id": "c9c33cb5",
   "metadata": {
    "execution": {
     "iopub.execute_input": "2022-11-05T00:01:07.089690Z",
     "iopub.status.busy": "2022-11-05T00:01:07.089226Z",
     "iopub.status.idle": "2022-11-05T00:03:28.080352Z",
     "shell.execute_reply": "2022-11-05T00:03:28.079424Z"
    },
    "papermill": {
     "duration": 141.071493,
     "end_time": "2022-11-05T00:03:28.083238",
     "exception": false,
     "start_time": "2022-11-05T00:01:07.011745",
     "status": "completed"
    },
    "tags": []
   },
   "outputs": [
    {
     "name": "stderr",
     "output_type": "stream",
     "text": [
      "  0%|          | 0/859 [00:00<?, ?it/s]/opt/conda/lib/python3.7/site-packages/ipykernel_launcher.py:19: VisibleDeprecationWarning: Creating an ndarray from ragged nested sequences (which is a list-or-tuple of lists-or-tuples-or ndarrays with different lengths or shapes) is deprecated. If you meant to do this, you must specify 'dtype=object' when creating the ndarray.\n",
      "100%|██████████| 859/859 [00:04<00:00, 186.46it/s]\n",
      "859it [00:00, 1920.64it/s]\n",
      "100%|██████████| 859/859 [00:04<00:00, 189.69it/s]\n",
      "859it [00:00, 2032.20it/s]\n",
      "100%|██████████| 859/859 [00:04<00:00, 183.43it/s]\n",
      "859it [00:00, 1966.66it/s]\n",
      "100%|██████████| 859/859 [00:04<00:00, 190.84it/s]\n",
      "859it [00:00, 1890.67it/s]\n",
      "100%|██████████| 859/859 [00:04<00:00, 188.75it/s]\n",
      "859it [00:00, 5249.88it/s]\n",
      "100%|██████████| 859/859 [00:04<00:00, 177.72it/s]\n",
      "859it [00:00, 5681.22it/s]\n",
      "100%|██████████| 859/859 [00:04<00:00, 179.27it/s]\n",
      "859it [00:00, 4930.48it/s]\n",
      "100%|██████████| 859/859 [00:04<00:00, 175.21it/s]\n",
      "859it [00:00, 4694.38it/s]\n",
      "100%|██████████| 859/859 [00:04<00:00, 181.35it/s]\n",
      "859it [00:00, 1831.91it/s]\n",
      "100%|██████████| 859/859 [00:04<00:00, 182.49it/s]\n",
      "859it [00:00, 4628.34it/s]\n",
      "100%|██████████| 859/859 [00:04<00:00, 180.15it/s]\n",
      "859it [00:00, 1860.83it/s]\n",
      "100%|██████████| 859/859 [00:04<00:00, 193.05it/s]\n",
      "859it [00:00, 1839.90it/s]\n",
      "100%|██████████| 859/859 [00:04<00:00, 186.51it/s]\n",
      "859it [00:00, 4755.77it/s]\n",
      "100%|██████████| 859/859 [00:04<00:00, 179.00it/s]\n",
      "859it [00:00, 1854.17it/s]\n",
      "100%|██████████| 859/859 [00:04<00:00, 187.03it/s]\n",
      "859it [00:00, 1794.45it/s]\n",
      "100%|██████████| 859/859 [00:04<00:00, 190.51it/s]\n",
      "859it [00:00, 4550.81it/s]\n",
      "100%|██████████| 859/859 [00:04<00:00, 183.06it/s]\n",
      "859it [00:00, 1749.32it/s]\n",
      "100%|██████████| 859/859 [00:04<00:00, 192.33it/s]\n",
      "859it [00:00, 1798.92it/s]\n",
      "100%|██████████| 859/859 [00:04<00:00, 188.51it/s]\n",
      "859it [00:00, 1823.31it/s]\n",
      "100%|██████████| 859/859 [00:04<00:00, 193.05it/s]\n",
      "859it [00:00, 1693.56it/s]\n",
      "100%|██████████| 859/859 [00:04<00:00, 185.41it/s]\n",
      "859it [00:00, 1798.35it/s]\n"
     ]
    }
   ],
   "source": [
    "fine_tune_wbf(retina_results,faster_results,'retina&faster',\n",
    "              IoU_treshold_grid,skip_threshold_grid,weights_grid)\n"
   ]
  },
  {
   "cell_type": "code",
   "execution_count": 19,
   "id": "868752b2",
   "metadata": {
    "execution": {
     "iopub.execute_input": "2022-11-05T00:03:28.359161Z",
     "iopub.status.busy": "2022-11-05T00:03:28.358759Z",
     "iopub.status.idle": "2022-11-05T00:06:01.225105Z",
     "shell.execute_reply": "2022-11-05T00:06:01.223882Z"
    },
    "papermill": {
     "duration": 153.00862,
     "end_time": "2022-11-05T00:06:01.228688",
     "exception": false,
     "start_time": "2022-11-05T00:03:28.220068",
     "status": "completed"
    },
    "tags": []
   },
   "outputs": [],
   "source": [
    "%%capture\n",
    "best_mAP50 = 0\n",
    "best_mAP_conf = {}\n",
    "\n",
    "for IoU_treshold in IoU_treshold_grid:\n",
    "    for weights in weights_grid:\n",
    "        for skip_threshold in skip_threshold_grid:\n",
    "            cocoGt = COCO('/kaggle/working/coco_val_512x512_fold_0.json')\n",
    "            res_json = f'/kaggle/working/ensemble_results/retina&faster/ensemble_results_{IoU_treshold}_{weights[0]}x{weights[1]}.json'\n",
    "            cocoDt = cocoGt.loadRes(res_json)\n",
    "            imgIds=sorted(cocoGt.getImgIds())\n",
    "            cocoEval = COCOeval(cocoGt,cocoDt,'bbox')\n",
    "\n",
    "            cocoEval.params.catIds = [0] \n",
    "            cocoEval.evaluate()  \n",
    "            cocoEval.accumulate()  \n",
    "            cocoEval.summarize()\n",
    "            mAP50 = cocoEval.stats[1]\n",
    "            if mAP50 > best_mAP50:\n",
    "                best_mAP50 = mAP50\n",
    "                best_mAP_conf['best'] = {mAP50:res_json}"
   ]
  },
  {
   "cell_type": "code",
   "execution_count": 20,
   "id": "92b89f36",
   "metadata": {
    "execution": {
     "iopub.execute_input": "2022-11-05T00:06:01.622443Z",
     "iopub.status.busy": "2022-11-05T00:06:01.621177Z",
     "iopub.status.idle": "2022-11-05T00:06:01.631308Z",
     "shell.execute_reply": "2022-11-05T00:06:01.630230Z"
    },
    "papermill": {
     "duration": 0.154666,
     "end_time": "2022-11-05T00:06:01.633621",
     "exception": false,
     "start_time": "2022-11-05T00:06:01.478955",
     "status": "completed"
    },
    "tags": []
   },
   "outputs": [
    {
     "data": {
      "text/plain": [
       "{'best': {0.5902820924657267: '/kaggle/working/ensemble_results/retina&faster/ensemble_results_0.7_1x3.json'}}"
      ]
     },
     "execution_count": 20,
     "metadata": {},
     "output_type": "execute_result"
    }
   ],
   "source": [
    "best_mAP_conf"
   ]
  },
  {
   "cell_type": "code",
   "execution_count": 21,
   "id": "abf1be45",
   "metadata": {
    "collapsed": true,
    "execution": {
     "iopub.execute_input": "2022-11-05T00:06:01.910455Z",
     "iopub.status.busy": "2022-11-05T00:06:01.910004Z",
     "iopub.status.idle": "2022-11-05T00:06:30.600441Z",
     "shell.execute_reply": "2022-11-05T00:06:30.599470Z"
    },
    "jupyter": {
     "outputs_hidden": true
    },
    "papermill": {
     "duration": 28.833108,
     "end_time": "2022-11-05T00:06:30.603245",
     "exception": false,
     "start_time": "2022-11-05T00:06:01.770137",
     "status": "completed"
    },
    "tags": []
   },
   "outputs": [
    {
     "name": "stderr",
     "output_type": "stream",
     "text": [
      "  0%|          | 0/859 [00:00<?, ?it/s]/opt/conda/lib/python3.7/site-packages/ipykernel_launcher.py:19: VisibleDeprecationWarning: Creating an ndarray from ragged nested sequences (which is a list-or-tuple of lists-or-tuples-or ndarrays with different lengths or shapes) is deprecated. If you meant to do this, you must specify 'dtype=object' when creating the ndarray.\n",
      "100%|██████████| 859/859 [00:01<00:00, 846.90it/s]\n",
      "859it [00:00, 36216.31it/s]\n",
      "100%|██████████| 859/859 [00:01<00:00, 845.12it/s]\n",
      "859it [00:00, 36033.40it/s]\n",
      "100%|██████████| 859/859 [00:01<00:00, 848.89it/s]\n",
      "859it [00:00, 33730.66it/s]\n",
      "100%|██████████| 859/859 [00:01<00:00, 828.35it/s]\n",
      "859it [00:00, 34661.00it/s]\n",
      "100%|██████████| 859/859 [00:01<00:00, 816.79it/s]\n",
      "859it [00:00, 30507.00it/s]\n",
      "100%|██████████| 859/859 [00:01<00:00, 756.54it/s]\n",
      "859it [00:00, 31467.26it/s]\n",
      "100%|██████████| 859/859 [00:01<00:00, 765.05it/s]\n",
      "859it [00:00, 2925.25it/s]\n",
      "100%|██████████| 859/859 [00:01<00:00, 815.14it/s]\n",
      "859it [00:00, 27265.63it/s]\n",
      "100%|██████████| 859/859 [00:01<00:00, 844.28it/s]\n",
      "859it [00:00, 27507.31it/s]\n",
      "100%|██████████| 859/859 [00:01<00:00, 840.09it/s]\n",
      "859it [00:00, 29283.36it/s]\n",
      "100%|██████████| 859/859 [00:00<00:00, 864.81it/s]\n",
      "859it [00:00, 28333.43it/s]\n",
      "100%|██████████| 859/859 [00:00<00:00, 866.44it/s]\n",
      "859it [00:00, 28078.39it/s]\n",
      "100%|██████████| 859/859 [00:01<00:00, 834.58it/s]\n",
      "859it [00:00, 3037.98it/s]\n",
      "100%|██████████| 859/859 [00:00<00:00, 872.74it/s]\n",
      "859it [00:00, 27711.90it/s]\n",
      "100%|██████████| 859/859 [00:00<00:00, 882.54it/s]\n",
      "859it [00:00, 25677.83it/s]\n",
      "100%|██████████| 859/859 [00:00<00:00, 889.51it/s]\n",
      "859it [00:00, 26175.36it/s]\n",
      "100%|██████████| 859/859 [00:00<00:00, 889.24it/s]\n",
      "859it [00:00, 25052.55it/s]\n",
      "100%|██████████| 859/859 [00:00<00:00, 874.73it/s]\n",
      "859it [00:00, 2913.86it/s]\n",
      "100%|██████████| 859/859 [00:00<00:00, 880.90it/s]\n",
      "859it [00:00, 25080.97it/s]\n",
      "100%|██████████| 859/859 [00:00<00:00, 877.01it/s]\n",
      "859it [00:00, 24855.18it/s]\n",
      "100%|██████████| 859/859 [00:00<00:00, 864.92it/s]\n",
      "859it [00:00, 25248.30it/s]\n"
     ]
    }
   ],
   "source": [
    "fine_tune_wbf(cascade_results,faster_results,'cascade&faster',\n",
    "              IoU_treshold_grid,skip_threshold_grid,weights_grid)"
   ]
  },
  {
   "cell_type": "code",
   "execution_count": 22,
   "id": "a84b66c4",
   "metadata": {
    "execution": {
     "iopub.execute_input": "2022-11-05T00:06:30.923830Z",
     "iopub.status.busy": "2022-11-05T00:06:30.923420Z",
     "iopub.status.idle": "2022-11-05T00:07:03.281693Z",
     "shell.execute_reply": "2022-11-05T00:07:03.280707Z"
    },
    "papermill": {
     "duration": 32.522521,
     "end_time": "2022-11-05T00:07:03.284287",
     "exception": false,
     "start_time": "2022-11-05T00:06:30.761766",
     "status": "completed"
    },
    "tags": []
   },
   "outputs": [],
   "source": [
    "%%capture\n",
    "best_mAP50 = 0\n",
    "best_mAP_conf = {}\n",
    "\n",
    "for IoU_treshold in IoU_treshold_grid:\n",
    "    for weights in weights_grid:\n",
    "        for skip_threshold in skip_threshold_grid:\n",
    "            cocoGt = COCO('/kaggle/working/coco_val_512x512_fold_0.json')\n",
    "            res_json = f'/kaggle/working/ensemble_results/cascade&faster/ensemble_results_{IoU_treshold}_{weights[0]}x{weights[1]}.json'\n",
    "            cocoDt = cocoGt.loadRes(res_json)\n",
    "            imgIds=sorted(cocoGt.getImgIds())\n",
    "            cocoEval = COCOeval(cocoGt,cocoDt,'bbox')\n",
    "\n",
    "            cocoEval.params.catIds = [0] \n",
    "            cocoEval.evaluate()  \n",
    "            cocoEval.accumulate()  \n",
    "            cocoEval.summarize()\n",
    "            mAP50 = cocoEval.stats[1]\n",
    "            if mAP50 > best_mAP50:\n",
    "                best_mAP50 = mAP50\n",
    "                best_mAP_conf['best'] = {mAP50:res_json}"
   ]
  },
  {
   "cell_type": "code",
   "execution_count": 23,
   "id": "157b0436",
   "metadata": {
    "execution": {
     "iopub.execute_input": "2022-11-05T00:07:03.603297Z",
     "iopub.status.busy": "2022-11-05T00:07:03.602864Z",
     "iopub.status.idle": "2022-11-05T00:07:03.612241Z",
     "shell.execute_reply": "2022-11-05T00:07:03.611072Z"
    },
    "papermill": {
     "duration": 0.172573,
     "end_time": "2022-11-05T00:07:03.615215",
     "exception": false,
     "start_time": "2022-11-05T00:07:03.442642",
     "status": "completed"
    },
    "tags": []
   },
   "outputs": [
    {
     "data": {
      "text/plain": [
       "{'best': {0.5784942151984268: '/kaggle/working/ensemble_results/cascade&faster/ensemble_results_0.6_1x2.json'}}"
      ]
     },
     "execution_count": 23,
     "metadata": {},
     "output_type": "execute_result"
    }
   ],
   "source": [
    "best_mAP_conf"
   ]
  },
  {
   "cell_type": "markdown",
   "id": "403bde0e",
   "metadata": {
    "papermill": {
     "duration": 0.159535,
     "end_time": "2022-11-05T00:07:03.937187",
     "exception": false,
     "start_time": "2022-11-05T00:07:03.777652",
     "status": "completed"
    },
    "tags": []
   },
   "source": [
    "## Uploading Visual Predictions to WandB"
   ]
  }
 ],
 "metadata": {
  "kernelspec": {
   "display_name": "Python 3.9.6 64-bit",
   "language": "python",
   "name": "python3"
  },
  "language_info": {
   "codemirror_mode": {
    "name": "ipython",
    "version": 3
   },
   "file_extension": ".py",
   "mimetype": "text/x-python",
   "name": "python",
   "nbconvert_exporter": "python",
   "pygments_lexer": "ipython3",
   "version": "3.9.6"
  },
  "papermill": {
   "default_parameters": {},
   "duration": 1037.118406,
   "end_time": "2022-11-05T00:07:17.644179",
   "environment_variables": {},
   "exception": true,
   "input_path": "__notebook__.ipynb",
   "output_path": "__notebook__.ipynb",
   "parameters": {},
   "start_time": "2022-11-04T23:50:00.525773",
   "version": "2.3.4"
  },
  "vscode": {
   "interpreter": {
    "hash": "31f2aee4e71d21fbe5cf8b01ff0e069b9275f58929596ceb00d14d90e3e16cd6"
   }
  },
  "widgets": {
   "application/vnd.jupyter.widget-state+json": {
    "state": {
     "04bba87b859f4823922da2446bf44104": {
      "model_module": "@jupyter-widgets/controls",
      "model_module_version": "1.5.0",
      "model_name": "ProgressStyleModel",
      "state": {
       "_model_module": "@jupyter-widgets/controls",
       "_model_module_version": "1.5.0",
       "_model_name": "ProgressStyleModel",
       "_view_count": null,
       "_view_module": "@jupyter-widgets/base",
       "_view_module_version": "1.2.0",
       "_view_name": "StyleView",
       "bar_color": null,
       "description_width": ""
      }
     },
     "0f46ad1358db43e2a6a1fa1a332e85a5": {
      "model_module": "@jupyter-widgets/base",
      "model_module_version": "1.2.0",
      "model_name": "LayoutModel",
      "state": {
       "_model_module": "@jupyter-widgets/base",
       "_model_module_version": "1.2.0",
       "_model_name": "LayoutModel",
       "_view_count": null,
       "_view_module": "@jupyter-widgets/base",
       "_view_module_version": "1.2.0",
       "_view_name": "LayoutView",
       "align_content": null,
       "align_items": null,
       "align_self": null,
       "border": null,
       "bottom": null,
       "display": null,
       "flex": null,
       "flex_flow": null,
       "grid_area": null,
       "grid_auto_columns": null,
       "grid_auto_flow": null,
       "grid_auto_rows": null,
       "grid_column": null,
       "grid_gap": null,
       "grid_row": null,
       "grid_template_areas": null,
       "grid_template_columns": null,
       "grid_template_rows": null,
       "height": null,
       "justify_content": null,
       "justify_items": null,
       "left": null,
       "margin": null,
       "max_height": null,
       "max_width": null,
       "min_height": null,
       "min_width": null,
       "object_fit": null,
       "object_position": null,
       "order": null,
       "overflow": null,
       "overflow_x": null,
       "overflow_y": null,
       "padding": null,
       "right": null,
       "top": null,
       "visibility": null,
       "width": null
      }
     },
     "10881a30fa78483b88846dd06a72b717": {
      "model_module": "@jupyter-widgets/controls",
      "model_module_version": "1.5.0",
      "model_name": "FloatProgressModel",
      "state": {
       "_dom_classes": [],
       "_model_module": "@jupyter-widgets/controls",
       "_model_module_version": "1.5.0",
       "_model_name": "FloatProgressModel",
       "_view_count": null,
       "_view_module": "@jupyter-widgets/controls",
       "_view_module_version": "1.5.0",
       "_view_name": "ProgressView",
       "bar_style": "",
       "description": "",
       "description_tooltip": null,
       "layout": "IPY_MODEL_533326abee6a43ca8077e9cda162abe7",
       "max": 1,
       "min": 0,
       "orientation": "horizontal",
       "style": "IPY_MODEL_04bba87b859f4823922da2446bf44104",
       "value": 0
      }
     },
     "17f6ccc8bb134e25a27754719e261123": {
      "model_module": "@jupyter-widgets/controls",
      "model_module_version": "1.5.0",
      "model_name": "VBoxModel",
      "state": {
       "_dom_classes": [],
       "_model_module": "@jupyter-widgets/controls",
       "_model_module_version": "1.5.0",
       "_model_name": "VBoxModel",
       "_view_count": null,
       "_view_module": "@jupyter-widgets/controls",
       "_view_module_version": "1.5.0",
       "_view_name": "VBoxView",
       "box_style": "",
       "children": [
        "IPY_MODEL_6a661a8ffa4248a699954dd276c36db1",
        "IPY_MODEL_e52af0b6b5f9405fae08b5b300a0cd04"
       ],
       "layout": "IPY_MODEL_7b740257a41843db902ae01bf575e360"
      }
     },
     "1be9a7cd052b4d1c9a3b8fd89cb890cc": {
      "model_module": "@jupyter-widgets/controls",
      "model_module_version": "1.5.0",
      "model_name": "VBoxModel",
      "state": {
       "_dom_classes": [],
       "_model_module": "@jupyter-widgets/controls",
       "_model_module_version": "1.5.0",
       "_model_name": "VBoxModel",
       "_view_count": null,
       "_view_module": "@jupyter-widgets/controls",
       "_view_module_version": "1.5.0",
       "_view_name": "VBoxView",
       "box_style": "",
       "children": [
        "IPY_MODEL_4a332019157b42b9ab90781a8cbf33b1",
        "IPY_MODEL_5979b4cc891a4d56b5e935bc73e605c3"
       ],
       "layout": "IPY_MODEL_93784a61ef1643b1b86d49ccffff1cb8"
      }
     },
     "1c1eff855fd94a139cc7f76026edfca3": {
      "model_module": "@jupyter-widgets/controls",
      "model_module_version": "1.5.0",
      "model_name": "ProgressStyleModel",
      "state": {
       "_model_module": "@jupyter-widgets/controls",
       "_model_module_version": "1.5.0",
       "_model_name": "ProgressStyleModel",
       "_view_count": null,
       "_view_module": "@jupyter-widgets/base",
       "_view_module_version": "1.2.0",
       "_view_name": "StyleView",
       "bar_color": null,
       "description_width": ""
      }
     },
     "3fd23db99611499daa888c37c5b76084": {
      "model_module": "@jupyter-widgets/controls",
      "model_module_version": "1.5.0",
      "model_name": "DescriptionStyleModel",
      "state": {
       "_model_module": "@jupyter-widgets/controls",
       "_model_module_version": "1.5.0",
       "_model_name": "DescriptionStyleModel",
       "_view_count": null,
       "_view_module": "@jupyter-widgets/base",
       "_view_module_version": "1.2.0",
       "_view_name": "StyleView",
       "description_width": ""
      }
     },
     "47ba67b4488e41b2a9f19d61bf431d62": {
      "model_module": "@jupyter-widgets/controls",
      "model_module_version": "1.5.0",
      "model_name": "ProgressStyleModel",
      "state": {
       "_model_module": "@jupyter-widgets/controls",
       "_model_module_version": "1.5.0",
       "_model_name": "ProgressStyleModel",
       "_view_count": null,
       "_view_module": "@jupyter-widgets/base",
       "_view_module_version": "1.2.0",
       "_view_name": "StyleView",
       "bar_color": null,
       "description_width": ""
      }
     },
     "4a332019157b42b9ab90781a8cbf33b1": {
      "model_module": "@jupyter-widgets/controls",
      "model_module_version": "1.5.0",
      "model_name": "LabelModel",
      "state": {
       "_dom_classes": [],
       "_model_module": "@jupyter-widgets/controls",
       "_model_module_version": "1.5.0",
       "_model_name": "LabelModel",
       "_view_count": null,
       "_view_module": "@jupyter-widgets/controls",
       "_view_module_version": "1.5.0",
       "_view_name": "LabelView",
       "description": "",
       "description_tooltip": null,
       "layout": "IPY_MODEL_941bc92c0996427d95308d8f0472dc21",
       "placeholder": "​",
       "style": "IPY_MODEL_3fd23db99611499daa888c37c5b76084",
       "value": ""
      }
     },
     "533326abee6a43ca8077e9cda162abe7": {
      "model_module": "@jupyter-widgets/base",
      "model_module_version": "1.2.0",
      "model_name": "LayoutModel",
      "state": {
       "_model_module": "@jupyter-widgets/base",
       "_model_module_version": "1.2.0",
       "_model_name": "LayoutModel",
       "_view_count": null,
       "_view_module": "@jupyter-widgets/base",
       "_view_module_version": "1.2.0",
       "_view_name": "LayoutView",
       "align_content": null,
       "align_items": null,
       "align_self": null,
       "border": null,
       "bottom": null,
       "display": null,
       "flex": null,
       "flex_flow": null,
       "grid_area": null,
       "grid_auto_columns": null,
       "grid_auto_flow": null,
       "grid_auto_rows": null,
       "grid_column": null,
       "grid_gap": null,
       "grid_row": null,
       "grid_template_areas": null,
       "grid_template_columns": null,
       "grid_template_rows": null,
       "height": null,
       "justify_content": null,
       "justify_items": null,
       "left": null,
       "margin": null,
       "max_height": null,
       "max_width": null,
       "min_height": null,
       "min_width": null,
       "object_fit": null,
       "object_position": null,
       "order": null,
       "overflow": null,
       "overflow_x": null,
       "overflow_y": null,
       "padding": null,
       "right": null,
       "top": null,
       "visibility": null,
       "width": null
      }
     },
     "5979b4cc891a4d56b5e935bc73e605c3": {
      "model_module": "@jupyter-widgets/controls",
      "model_module_version": "1.5.0",
      "model_name": "FloatProgressModel",
      "state": {
       "_dom_classes": [],
       "_model_module": "@jupyter-widgets/controls",
       "_model_module_version": "1.5.0",
       "_model_name": "FloatProgressModel",
       "_view_count": null,
       "_view_module": "@jupyter-widgets/controls",
       "_view_module_version": "1.5.0",
       "_view_name": "ProgressView",
       "bar_style": "",
       "description": "",
       "description_tooltip": null,
       "layout": "IPY_MODEL_d7c9562075e9487580055d96e1221cca",
       "max": 1,
       "min": 0,
       "orientation": "horizontal",
       "style": "IPY_MODEL_47ba67b4488e41b2a9f19d61bf431d62",
       "value": 0
      }
     },
     "6a661a8ffa4248a699954dd276c36db1": {
      "model_module": "@jupyter-widgets/controls",
      "model_module_version": "1.5.0",
      "model_name": "LabelModel",
      "state": {
       "_dom_classes": [],
       "_model_module": "@jupyter-widgets/controls",
       "_model_module_version": "1.5.0",
       "_model_name": "LabelModel",
       "_view_count": null,
       "_view_module": "@jupyter-widgets/controls",
       "_view_module_version": "1.5.0",
       "_view_name": "LabelView",
       "description": "",
       "description_tooltip": null,
       "layout": "IPY_MODEL_0f46ad1358db43e2a6a1fa1a332e85a5",
       "placeholder": "​",
       "style": "IPY_MODEL_ff90aedbadf54a8795d134a6aec2c222",
       "value": ""
      }
     },
     "70352fa8d12845db92b7b870018cf1ad": {
      "model_module": "@jupyter-widgets/base",
      "model_module_version": "1.2.0",
      "model_name": "LayoutModel",
      "state": {
       "_model_module": "@jupyter-widgets/base",
       "_model_module_version": "1.2.0",
       "_model_name": "LayoutModel",
       "_view_count": null,
       "_view_module": "@jupyter-widgets/base",
       "_view_module_version": "1.2.0",
       "_view_name": "LayoutView",
       "align_content": null,
       "align_items": null,
       "align_self": null,
       "border": null,
       "bottom": null,
       "display": null,
       "flex": null,
       "flex_flow": null,
       "grid_area": null,
       "grid_auto_columns": null,
       "grid_auto_flow": null,
       "grid_auto_rows": null,
       "grid_column": null,
       "grid_gap": null,
       "grid_row": null,
       "grid_template_areas": null,
       "grid_template_columns": null,
       "grid_template_rows": null,
       "height": null,
       "justify_content": null,
       "justify_items": null,
       "left": null,
       "margin": null,
       "max_height": null,
       "max_width": null,
       "min_height": null,
       "min_width": null,
       "object_fit": null,
       "object_position": null,
       "order": null,
       "overflow": null,
       "overflow_x": null,
       "overflow_y": null,
       "padding": null,
       "right": null,
       "top": null,
       "visibility": null,
       "width": null
      }
     },
     "7565c7c14faa4903bc03d41cf148beca": {
      "model_module": "@jupyter-widgets/base",
      "model_module_version": "1.2.0",
      "model_name": "LayoutModel",
      "state": {
       "_model_module": "@jupyter-widgets/base",
       "_model_module_version": "1.2.0",
       "_model_name": "LayoutModel",
       "_view_count": null,
       "_view_module": "@jupyter-widgets/base",
       "_view_module_version": "1.2.0",
       "_view_name": "LayoutView",
       "align_content": null,
       "align_items": null,
       "align_self": null,
       "border": null,
       "bottom": null,
       "display": null,
       "flex": null,
       "flex_flow": null,
       "grid_area": null,
       "grid_auto_columns": null,
       "grid_auto_flow": null,
       "grid_auto_rows": null,
       "grid_column": null,
       "grid_gap": null,
       "grid_row": null,
       "grid_template_areas": null,
       "grid_template_columns": null,
       "grid_template_rows": null,
       "height": null,
       "justify_content": null,
       "justify_items": null,
       "left": null,
       "margin": null,
       "max_height": null,
       "max_width": null,
       "min_height": null,
       "min_width": null,
       "object_fit": null,
       "object_position": null,
       "order": null,
       "overflow": null,
       "overflow_x": null,
       "overflow_y": null,
       "padding": null,
       "right": null,
       "top": null,
       "visibility": null,
       "width": null
      }
     },
     "763988c40a7e4fff83d17cbf6bd32eea": {
      "model_module": "@jupyter-widgets/base",
      "model_module_version": "1.2.0",
      "model_name": "LayoutModel",
      "state": {
       "_model_module": "@jupyter-widgets/base",
       "_model_module_version": "1.2.0",
       "_model_name": "LayoutModel",
       "_view_count": null,
       "_view_module": "@jupyter-widgets/base",
       "_view_module_version": "1.2.0",
       "_view_name": "LayoutView",
       "align_content": null,
       "align_items": null,
       "align_self": null,
       "border": null,
       "bottom": null,
       "display": null,
       "flex": null,
       "flex_flow": null,
       "grid_area": null,
       "grid_auto_columns": null,
       "grid_auto_flow": null,
       "grid_auto_rows": null,
       "grid_column": null,
       "grid_gap": null,
       "grid_row": null,
       "grid_template_areas": null,
       "grid_template_columns": null,
       "grid_template_rows": null,
       "height": null,
       "justify_content": null,
       "justify_items": null,
       "left": null,
       "margin": null,
       "max_height": null,
       "max_width": null,
       "min_height": null,
       "min_width": null,
       "object_fit": null,
       "object_position": null,
       "order": null,
       "overflow": null,
       "overflow_x": null,
       "overflow_y": null,
       "padding": null,
       "right": null,
       "top": null,
       "visibility": null,
       "width": null
      }
     },
     "7b740257a41843db902ae01bf575e360": {
      "model_module": "@jupyter-widgets/base",
      "model_module_version": "1.2.0",
      "model_name": "LayoutModel",
      "state": {
       "_model_module": "@jupyter-widgets/base",
       "_model_module_version": "1.2.0",
       "_model_name": "LayoutModel",
       "_view_count": null,
       "_view_module": "@jupyter-widgets/base",
       "_view_module_version": "1.2.0",
       "_view_name": "LayoutView",
       "align_content": null,
       "align_items": null,
       "align_self": null,
       "border": null,
       "bottom": null,
       "display": null,
       "flex": null,
       "flex_flow": null,
       "grid_area": null,
       "grid_auto_columns": null,
       "grid_auto_flow": null,
       "grid_auto_rows": null,
       "grid_column": null,
       "grid_gap": null,
       "grid_row": null,
       "grid_template_areas": null,
       "grid_template_columns": null,
       "grid_template_rows": null,
       "height": null,
       "justify_content": null,
       "justify_items": null,
       "left": null,
       "margin": null,
       "max_height": null,
       "max_width": null,
       "min_height": null,
       "min_width": null,
       "object_fit": null,
       "object_position": null,
       "order": null,
       "overflow": null,
       "overflow_x": null,
       "overflow_y": null,
       "padding": null,
       "right": null,
       "top": null,
       "visibility": null,
       "width": null
      }
     },
     "7cdee3e38bbb48d391927ebcb11646b5": {
      "model_module": "@jupyter-widgets/controls",
      "model_module_version": "1.5.0",
      "model_name": "DescriptionStyleModel",
      "state": {
       "_model_module": "@jupyter-widgets/controls",
       "_model_module_version": "1.5.0",
       "_model_name": "DescriptionStyleModel",
       "_view_count": null,
       "_view_module": "@jupyter-widgets/base",
       "_view_module_version": "1.2.0",
       "_view_name": "StyleView",
       "description_width": ""
      }
     },
     "8220d6dd1778453286734923994ae397": {
      "model_module": "@jupyter-widgets/base",
      "model_module_version": "1.2.0",
      "model_name": "LayoutModel",
      "state": {
       "_model_module": "@jupyter-widgets/base",
       "_model_module_version": "1.2.0",
       "_model_name": "LayoutModel",
       "_view_count": null,
       "_view_module": "@jupyter-widgets/base",
       "_view_module_version": "1.2.0",
       "_view_name": "LayoutView",
       "align_content": null,
       "align_items": null,
       "align_self": null,
       "border": null,
       "bottom": null,
       "display": null,
       "flex": null,
       "flex_flow": null,
       "grid_area": null,
       "grid_auto_columns": null,
       "grid_auto_flow": null,
       "grid_auto_rows": null,
       "grid_column": null,
       "grid_gap": null,
       "grid_row": null,
       "grid_template_areas": null,
       "grid_template_columns": null,
       "grid_template_rows": null,
       "height": null,
       "justify_content": null,
       "justify_items": null,
       "left": null,
       "margin": null,
       "max_height": null,
       "max_width": null,
       "min_height": null,
       "min_width": null,
       "object_fit": null,
       "object_position": null,
       "order": null,
       "overflow": null,
       "overflow_x": null,
       "overflow_y": null,
       "padding": null,
       "right": null,
       "top": null,
       "visibility": null,
       "width": null
      }
     },
     "8498458b0aae46908033f6cce340585b": {
      "model_module": "@jupyter-widgets/controls",
      "model_module_version": "1.5.0",
      "model_name": "FloatProgressModel",
      "state": {
       "_dom_classes": [],
       "_model_module": "@jupyter-widgets/controls",
       "_model_module_version": "1.5.0",
       "_model_name": "FloatProgressModel",
       "_view_count": null,
       "_view_module": "@jupyter-widgets/controls",
       "_view_module_version": "1.5.0",
       "_view_name": "ProgressView",
       "bar_style": "",
       "description": "",
       "description_tooltip": null,
       "layout": "IPY_MODEL_763988c40a7e4fff83d17cbf6bd32eea",
       "max": 1,
       "min": 0,
       "orientation": "horizontal",
       "style": "IPY_MODEL_1c1eff855fd94a139cc7f76026edfca3",
       "value": 0.048976109215017063
      }
     },
     "8c0f8094db534404879e154add2609be": {
      "model_module": "@jupyter-widgets/controls",
      "model_module_version": "1.5.0",
      "model_name": "VBoxModel",
      "state": {
       "_dom_classes": [],
       "_model_module": "@jupyter-widgets/controls",
       "_model_module_version": "1.5.0",
       "_model_name": "VBoxModel",
       "_view_count": null,
       "_view_module": "@jupyter-widgets/controls",
       "_view_module_version": "1.5.0",
       "_view_name": "VBoxView",
       "box_style": "",
       "children": [
        "IPY_MODEL_cb5e063cd33c4dd98a462f3d14bb54ab",
        "IPY_MODEL_8498458b0aae46908033f6cce340585b"
       ],
       "layout": "IPY_MODEL_7565c7c14faa4903bc03d41cf148beca"
      }
     },
     "93784a61ef1643b1b86d49ccffff1cb8": {
      "model_module": "@jupyter-widgets/base",
      "model_module_version": "1.2.0",
      "model_name": "LayoutModel",
      "state": {
       "_model_module": "@jupyter-widgets/base",
       "_model_module_version": "1.2.0",
       "_model_name": "LayoutModel",
       "_view_count": null,
       "_view_module": "@jupyter-widgets/base",
       "_view_module_version": "1.2.0",
       "_view_name": "LayoutView",
       "align_content": null,
       "align_items": null,
       "align_self": null,
       "border": null,
       "bottom": null,
       "display": null,
       "flex": null,
       "flex_flow": null,
       "grid_area": null,
       "grid_auto_columns": null,
       "grid_auto_flow": null,
       "grid_auto_rows": null,
       "grid_column": null,
       "grid_gap": null,
       "grid_row": null,
       "grid_template_areas": null,
       "grid_template_columns": null,
       "grid_template_rows": null,
       "height": null,
       "justify_content": null,
       "justify_items": null,
       "left": null,
       "margin": null,
       "max_height": null,
       "max_width": null,
       "min_height": null,
       "min_width": null,
       "object_fit": null,
       "object_position": null,
       "order": null,
       "overflow": null,
       "overflow_x": null,
       "overflow_y": null,
       "padding": null,
       "right": null,
       "top": null,
       "visibility": null,
       "width": null
      }
     },
     "941bc92c0996427d95308d8f0472dc21": {
      "model_module": "@jupyter-widgets/base",
      "model_module_version": "1.2.0",
      "model_name": "LayoutModel",
      "state": {
       "_model_module": "@jupyter-widgets/base",
       "_model_module_version": "1.2.0",
       "_model_name": "LayoutModel",
       "_view_count": null,
       "_view_module": "@jupyter-widgets/base",
       "_view_module_version": "1.2.0",
       "_view_name": "LayoutView",
       "align_content": null,
       "align_items": null,
       "align_self": null,
       "border": null,
       "bottom": null,
       "display": null,
       "flex": null,
       "flex_flow": null,
       "grid_area": null,
       "grid_auto_columns": null,
       "grid_auto_flow": null,
       "grid_auto_rows": null,
       "grid_column": null,
       "grid_gap": null,
       "grid_row": null,
       "grid_template_areas": null,
       "grid_template_columns": null,
       "grid_template_rows": null,
       "height": null,
       "justify_content": null,
       "justify_items": null,
       "left": null,
       "margin": null,
       "max_height": null,
       "max_width": null,
       "min_height": null,
       "min_width": null,
       "object_fit": null,
       "object_position": null,
       "order": null,
       "overflow": null,
       "overflow_x": null,
       "overflow_y": null,
       "padding": null,
       "right": null,
       "top": null,
       "visibility": null,
       "width": null
      }
     },
     "bdc8d62d70714dadaac014f1bd19d0a2": {
      "model_module": "@jupyter-widgets/base",
      "model_module_version": "1.2.0",
      "model_name": "LayoutModel",
      "state": {
       "_model_module": "@jupyter-widgets/base",
       "_model_module_version": "1.2.0",
       "_model_name": "LayoutModel",
       "_view_count": null,
       "_view_module": "@jupyter-widgets/base",
       "_view_module_version": "1.2.0",
       "_view_name": "LayoutView",
       "align_content": null,
       "align_items": null,
       "align_self": null,
       "border": null,
       "bottom": null,
       "display": null,
       "flex": null,
       "flex_flow": null,
       "grid_area": null,
       "grid_auto_columns": null,
       "grid_auto_flow": null,
       "grid_auto_rows": null,
       "grid_column": null,
       "grid_gap": null,
       "grid_row": null,
       "grid_template_areas": null,
       "grid_template_columns": null,
       "grid_template_rows": null,
       "height": null,
       "justify_content": null,
       "justify_items": null,
       "left": null,
       "margin": null,
       "max_height": null,
       "max_width": null,
       "min_height": null,
       "min_width": null,
       "object_fit": null,
       "object_position": null,
       "order": null,
       "overflow": null,
       "overflow_x": null,
       "overflow_y": null,
       "padding": null,
       "right": null,
       "top": null,
       "visibility": null,
       "width": null
      }
     },
     "cb5e063cd33c4dd98a462f3d14bb54ab": {
      "model_module": "@jupyter-widgets/controls",
      "model_module_version": "1.5.0",
      "model_name": "LabelModel",
      "state": {
       "_dom_classes": [],
       "_model_module": "@jupyter-widgets/controls",
       "_model_module_version": "1.5.0",
       "_model_name": "LabelModel",
       "_view_count": null,
       "_view_module": "@jupyter-widgets/controls",
       "_view_module_version": "1.5.0",
       "_view_name": "LabelView",
       "description": "",
       "description_tooltip": null,
       "layout": "IPY_MODEL_bdc8d62d70714dadaac014f1bd19d0a2",
       "placeholder": "​",
       "style": "IPY_MODEL_7cdee3e38bbb48d391927ebcb11646b5",
       "value": "0.001 MB of 0.022 MB uploaded (0.000 MB deduped)\r"
      }
     },
     "d7c9562075e9487580055d96e1221cca": {
      "model_module": "@jupyter-widgets/base",
      "model_module_version": "1.2.0",
      "model_name": "LayoutModel",
      "state": {
       "_model_module": "@jupyter-widgets/base",
       "_model_module_version": "1.2.0",
       "_model_name": "LayoutModel",
       "_view_count": null,
       "_view_module": "@jupyter-widgets/base",
       "_view_module_version": "1.2.0",
       "_view_name": "LayoutView",
       "align_content": null,
       "align_items": null,
       "align_self": null,
       "border": null,
       "bottom": null,
       "display": null,
       "flex": null,
       "flex_flow": null,
       "grid_area": null,
       "grid_auto_columns": null,
       "grid_auto_flow": null,
       "grid_auto_rows": null,
       "grid_column": null,
       "grid_gap": null,
       "grid_row": null,
       "grid_template_areas": null,
       "grid_template_columns": null,
       "grid_template_rows": null,
       "height": null,
       "justify_content": null,
       "justify_items": null,
       "left": null,
       "margin": null,
       "max_height": null,
       "max_width": null,
       "min_height": null,
       "min_width": null,
       "object_fit": null,
       "object_position": null,
       "order": null,
       "overflow": null,
       "overflow_x": null,
       "overflow_y": null,
       "padding": null,
       "right": null,
       "top": null,
       "visibility": null,
       "width": null
      }
     },
     "d9c8f8e37eda4073bac8a36f34da7c6b": {
      "model_module": "@jupyter-widgets/controls",
      "model_module_version": "1.5.0",
      "model_name": "VBoxModel",
      "state": {
       "_dom_classes": [],
       "_model_module": "@jupyter-widgets/controls",
       "_model_module_version": "1.5.0",
       "_model_name": "VBoxModel",
       "_view_count": null,
       "_view_module": "@jupyter-widgets/controls",
       "_view_module_version": "1.5.0",
       "_view_name": "VBoxView",
       "box_style": "",
       "children": [
        "IPY_MODEL_f1e6687a581548beb094ed18d2dee086",
        "IPY_MODEL_10881a30fa78483b88846dd06a72b717"
       ],
       "layout": "IPY_MODEL_70352fa8d12845db92b7b870018cf1ad"
      }
     },
     "e52af0b6b5f9405fae08b5b300a0cd04": {
      "model_module": "@jupyter-widgets/controls",
      "model_module_version": "1.5.0",
      "model_name": "FloatProgressModel",
      "state": {
       "_dom_classes": [],
       "_model_module": "@jupyter-widgets/controls",
       "_model_module_version": "1.5.0",
       "_model_name": "FloatProgressModel",
       "_view_count": null,
       "_view_module": "@jupyter-widgets/controls",
       "_view_module_version": "1.5.0",
       "_view_name": "ProgressView",
       "bar_style": "",
       "description": "",
       "description_tooltip": null,
       "layout": "IPY_MODEL_fdc8ef02f23f465a928fe30238b411ec",
       "max": 1,
       "min": 0,
       "orientation": "horizontal",
       "style": "IPY_MODEL_f6d41ca0a14b4c41ba6d78cc45fa6bfc",
       "value": 0
      }
     },
     "f1e6687a581548beb094ed18d2dee086": {
      "model_module": "@jupyter-widgets/controls",
      "model_module_version": "1.5.0",
      "model_name": "LabelModel",
      "state": {
       "_dom_classes": [],
       "_model_module": "@jupyter-widgets/controls",
       "_model_module_version": "1.5.0",
       "_model_name": "LabelModel",
       "_view_count": null,
       "_view_module": "@jupyter-widgets/controls",
       "_view_module_version": "1.5.0",
       "_view_name": "LabelView",
       "description": "",
       "description_tooltip": null,
       "layout": "IPY_MODEL_8220d6dd1778453286734923994ae397",
       "placeholder": "​",
       "style": "IPY_MODEL_fd833461b7b342cd9c3eee4efa6fd1bd",
       "value": ""
      }
     },
     "f6d41ca0a14b4c41ba6d78cc45fa6bfc": {
      "model_module": "@jupyter-widgets/controls",
      "model_module_version": "1.5.0",
      "model_name": "ProgressStyleModel",
      "state": {
       "_model_module": "@jupyter-widgets/controls",
       "_model_module_version": "1.5.0",
       "_model_name": "ProgressStyleModel",
       "_view_count": null,
       "_view_module": "@jupyter-widgets/base",
       "_view_module_version": "1.2.0",
       "_view_name": "StyleView",
       "bar_color": null,
       "description_width": ""
      }
     },
     "fd833461b7b342cd9c3eee4efa6fd1bd": {
      "model_module": "@jupyter-widgets/controls",
      "model_module_version": "1.5.0",
      "model_name": "DescriptionStyleModel",
      "state": {
       "_model_module": "@jupyter-widgets/controls",
       "_model_module_version": "1.5.0",
       "_model_name": "DescriptionStyleModel",
       "_view_count": null,
       "_view_module": "@jupyter-widgets/base",
       "_view_module_version": "1.2.0",
       "_view_name": "StyleView",
       "description_width": ""
      }
     },
     "fdc8ef02f23f465a928fe30238b411ec": {
      "model_module": "@jupyter-widgets/base",
      "model_module_version": "1.2.0",
      "model_name": "LayoutModel",
      "state": {
       "_model_module": "@jupyter-widgets/base",
       "_model_module_version": "1.2.0",
       "_model_name": "LayoutModel",
       "_view_count": null,
       "_view_module": "@jupyter-widgets/base",
       "_view_module_version": "1.2.0",
       "_view_name": "LayoutView",
       "align_content": null,
       "align_items": null,
       "align_self": null,
       "border": null,
       "bottom": null,
       "display": null,
       "flex": null,
       "flex_flow": null,
       "grid_area": null,
       "grid_auto_columns": null,
       "grid_auto_flow": null,
       "grid_auto_rows": null,
       "grid_column": null,
       "grid_gap": null,
       "grid_row": null,
       "grid_template_areas": null,
       "grid_template_columns": null,
       "grid_template_rows": null,
       "height": null,
       "justify_content": null,
       "justify_items": null,
       "left": null,
       "margin": null,
       "max_height": null,
       "max_width": null,
       "min_height": null,
       "min_width": null,
       "object_fit": null,
       "object_position": null,
       "order": null,
       "overflow": null,
       "overflow_x": null,
       "overflow_y": null,
       "padding": null,
       "right": null,
       "top": null,
       "visibility": null,
       "width": null
      }
     },
     "ff90aedbadf54a8795d134a6aec2c222": {
      "model_module": "@jupyter-widgets/controls",
      "model_module_version": "1.5.0",
      "model_name": "DescriptionStyleModel",
      "state": {
       "_model_module": "@jupyter-widgets/controls",
       "_model_module_version": "1.5.0",
       "_model_name": "DescriptionStyleModel",
       "_view_count": null,
       "_view_module": "@jupyter-widgets/base",
       "_view_module_version": "1.2.0",
       "_view_name": "StyleView",
       "description_width": ""
      }
     }
    },
    "version_major": 2,
    "version_minor": 0
   }
  }
 },
 "nbformat": 4,
 "nbformat_minor": 5
}
